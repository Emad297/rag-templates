# Advanced embedding setup and imports
import numpy as np
import pandas as pd
from typing import List, Dict, Any, Optional, Tuple
import json
import time
from dataclasses import dataclass
from pathlib import Path

# Embedding and ML libraries
from sklearn.metrics.pairwise import cosine_similarity
from sklearn.manifold import TSNE
from sklearn.decomposition import PCA
import umap

# Visualization
import matplotlib.pyplot as plt
import seaborn as sns
import plotly.express as px
import plotly.graph_objects as go
from plotly.subplots import make_subplots

# LangChain embeddings (multiple providers)
from langchain.embeddings import (
    OllamaEmbeddings,
    OpenAIEmbeddings, 
    HuggingFaceEmbeddings,
    SentenceTransformerEmbeddings
)

# Rich for beautiful output
from rich.console import Console
from rich.table import Table
from rich.progress import Progress, SpinnerColumn, TextColumn
from rich.panel import Panel

console = Console()

console.print("🧠 Advanced Embedding Environment Ready!", style="green bold")
console.print("📊 Libraries loaded: scikit-learn, UMAP, multiple embedding providers", style="blue")# 🧠 Advanced Embedding Setup for GraphRAG

This notebook focuses on the embedding and vector storage aspects of GraphRAG. We'll explore different embedding models, optimization techniques, and vector operations.

## 🎯 What You'll Learn

- Different embedding models and their trade-offs
- Vector storage optimization techniques
- Hybrid search strategies (dense + sparse)
- Embedding fine-tuning for domain-specific tasks
- Performance benchmarking and evaluation

## 🔧 Prerequisites

- Basic understanding of vector embeddings
- Familiarity with machine learning concepts
- Completed main GraphRAG tutorial

Let's dive into the world of embeddings! 🚀