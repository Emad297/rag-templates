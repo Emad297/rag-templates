class AdvancedGraphSchema:
    """Advanced schema design for medical knowledge graphs"""
    
    def __init__(self):
        self.node_types = {
            "symptom": {
                "properties": ["name", "description", "severity", "duration", "frequency"],
                "relationships": ["treats", "indicates", "co_occurs_with"]
            },
            "treatment": {
                "properties": ["name", "type", "dosage", "duration", "effectiveness"],
                "relationships": ["treats", "contraindicated_with", "enhances"]
            },
            "condition": {
                "properties": ["name", "description", "severity", "chronicity"],
                "relationships": ["has_symptom", "treated_by", "causes"]
            },
            "medical_practice": {
                "properties": ["name", "specialization", "subspecialty"],
                "relationships": ["practices", "refers_to"]
            },
            "medication": {
                "properties": ["name", "type", "mechanism", "side_effects"],
                "relationships": ["treats", "interacts_with", "contraindicated"]
            }
        }
        
        self.relationship_types = {
            "treats": {"weight": True, "properties": ["effectiveness", "confidence"]},
            "indicates": {"weight": True, "properties": ["probability", "severity"]},
            "co_occurs_with": {"weight": True, "properties": ["frequency", "correlation"]},
            "contraindicated_with": {"weight": False, "properties": ["severity", "reason"]},
            "enhances": {"weight": True, "properties": ["synergy_score"]},
            "causes": {"weight": True, "properties": ["probability", "mechanism"]}
        }
    
    def generate_schema_queries(self) -> List[str]:
        """Generate SurrealDB schema definition queries"""
        queries = []
        
        # Define node tables
        for node_type, config in self.node_types.items():
            queries.append(f"DEFINE TABLE {node_type} SCHEMAFULL;")
            for prop in config["properties"]:
                if prop == "name":
                    queries.append(f"DEFINE FIELD {prop} ON TABLE {node_type} TYPE string ASSERT $value != NONE;")
                else:
                    queries.append(f"DEFINE FIELD {prop} ON TABLE {node_type} TYPE string;")
            
            # Add embedding field for vector operations
            queries.append(f"DEFINE FIELD embedding ON TABLE {node_type} TYPE array;")
        
        # Define relationship tables
        for rel_type, config in self.relationship_types.items():
            queries.append(f"DEFINE TABLE {rel_type} SCHEMAFULL;")
            queries.append(f"DEFINE FIELD in ON TABLE {rel_type} TYPE record;")
            queries.append(f"DEFINE FIELD out ON TABLE {rel_type} TYPE record;")
            
            if config["weight"]:
                queries.append(f"DEFINE FIELD weight ON TABLE {rel_type} TYPE number DEFAULT 1.0;")
            
            for prop in config["properties"]:
                queries.append(f"DEFINE FIELD {prop} ON TABLE {rel_type} TYPE string;")
        
        return queries
    
    def visualize_schema(self):
        """Visualize the graph schema"""
        # Create a tree view of the schema
        tree = Tree("🏗️ Advanced Medical Knowledge Graph Schema")
        
        # Add node types
        nodes_branch = tree.add("📊 Node Types")
        for node_type, config in self.node_types.items():
            node_branch_item = nodes_branch.add(f"🔵 {node_type}")
            props_item = node_branch_item.add("Properties:")
            for prop in config["properties"]:
                props_item.add(f"• {prop}")
        
        # Add relationship types
        rels_branch = tree.add("🔗 Relationship Types")
        for rel_type, config in self.relationship_types.items():
            rel_item = rels_branch.add(f"↔️ {rel_type}")
            if config["weight"]:
                rel_item.add("✓ Weighted")
            if config["properties"]:
                props_item = rel_item.add("Properties:")
                for prop in config["properties"]:
                    props_item.add(f"• {prop}")
        
        console.print(tree)

# Initialize and display advanced schema
schema = AdvancedGraphSchema()
schema.visualize_schema()

console.print("\n🔧 Schema Queries Generated:", style="blue bold")
queries = schema.generate_schema_queries()
console.print(f"Generated {len(queries)} schema definition queries", style="green")## 🏗️ Advanced Graph Schema Design

Let's design a more sophisticated graph schema that can handle complex medical relationships and enable powerful queries.# Setup and imports for knowledge graph building
import asyncio
import json
import yaml
from typing import Dict, List, Any, Set, Tuple
from dataclasses import dataclass
from pathlib import Path

# Graph analysis libraries
import networkx as nx
import matplotlib.pyplot as plt
import plotly.graph_objects as go
import plotly.express as px
from plotly.subplots import make_subplots

# SurrealDB for graph storage
from surrealdb import Surreal

# Rich for beautiful output
from rich.console import Console
from rich.table import Table
from rich.tree import Tree
from rich.panel import Panel

console = Console()

console.print("🕸️ Knowledge Graph Building Environment Ready!", style="green bold")
console.print("📊 Libraries loaded: NetworkX, Plotly, SurrealDB", style="blue")# 🕸️ Knowledge Graph Building with SurrealDB

This notebook focuses specifically on building and managing knowledge graphs for GraphRAG applications. We'll dive deep into graph construction, relationship modeling, and advanced querying techniques.

## 🎯 Learning Objectives

By the end of this notebook, you'll understand:
- Advanced graph modeling techniques
- SurrealDB graph query optimization
- Graph algorithms for enhanced retrieval
- Visualization and analysis of knowledge graphs
- Best practices for graph schema design

## 📚 Prerequisites

- Complete the main GraphRAG tutorial first
- Basic understanding of graph theory
- Familiarity with SurrealDB query language

Let's build sophisticated knowledge graphs! 🚀